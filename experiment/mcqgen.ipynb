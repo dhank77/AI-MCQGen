{
 "cells": [
  {
   "cell_type": "code",
   "execution_count": 1,
   "metadata": {},
   "outputs": [],
   "source": [
    "import environ\n",
    "env = environ.Env()\n",
    "environ.Env.read_env('.env')"
   ]
  },
  {
   "cell_type": "code",
   "execution_count": 2,
   "metadata": {},
   "outputs": [],
   "source": [
    "HUGGING_TOKEN=env(\"HUGGING_TOKEN_WRITE\")\n",
    "GOOGLE_TOKEN=env(\"GOOGLE_GEMINI\")"
   ]
  },
  {
   "cell_type": "code",
   "execution_count": 3,
   "metadata": {},
   "outputs": [
    {
     "name": "stderr",
     "output_type": "stream",
     "text": [
      "/Users/hamdaniilham/Python/AI-MCQGen/venv/lib/python3.11/site-packages/tqdm/auto.py:21: TqdmWarning: IProgress not found. Please update jupyter and ipywidgets. See https://ipywidgets.readthedocs.io/en/stable/user_install.html\n",
      "  from .autonotebook import tqdm as notebook_tqdm\n",
      "None of PyTorch, TensorFlow >= 2.0, or Flax have been found. Models won't be available and only tokenizers, configuration and file/data utilities can be used.\n"
     ]
    }
   ],
   "source": [
    "#from langchain.chat_models import ChatOpenAI\n",
    "from langchain.prompts import PromptTemplate\n",
    "from langchain.chains import LLMChain, SequentialChain\n",
    "from langchain.callbacks import get_openai_callback\n",
    "from langchain_community.chat_models import ChatOllama\n",
    "from langchain import HuggingFaceHub, HuggingFacePipeline\n",
    "from transformers import AutoModelForCausalLM, AutoModelForSeq2SeqLM, AutoTokenizer, pipeline\n",
    "from huggingface_hub import login\n",
    "from langchain_google_genai import ChatGoogleGenerativeAI\n"
   ]
  },
  {
   "cell_type": "code",
   "execution_count": 8,
   "metadata": {},
   "outputs": [
    {
     "name": "stdout",
     "output_type": "stream",
     "text": [
      "The token has not been saved to the git credentials helper. Pass `add_to_git_credential=True` in this function directly or `--add-to-git-credential` if using via `huggingface-cli` if you want to set the git credential as well.\n",
      "Token is valid (permission: read).\n",
      "Your token has been saved to /Users/hamdaniilham/.cache/huggingface/token\n",
      "Login successful\n"
     ]
    }
   ],
   "source": [
    "login(token=HUGGING_TOKEN)"
   ]
  },
  {
   "cell_type": "code",
   "execution_count": 4,
   "metadata": {},
   "outputs": [],
   "source": [
    "# Set up the OpenAI API client\n",
    "#llm=ChatOpenAI(openai_api_key=KEY, temperature=0, model_name=\"gpt-3.5-turbo\")\n",
    "\n",
    "# Set up the Gemini\n",
    "llm_google = ChatGoogleGenerativeAI(model=\"gemini-pro\", google_api_key=GOOGLE_TOKEN, temperature=0.1)\n",
    "\n",
    "# Set up the Ollama\n",
    "# llama=ChatOllama(model='phi3')\n",
    "\n",
    "#set up the hugging face model\n",
    "# model_id = \"google/flan-t5-small\"\n",
    "# tokenizer = AutoTokenizer.from_pretrained(model_id)\n",
    "# model = AutoModelForSeq2SeqLM.from_pretrained(model_id, low_cpu_mem_usage=True,)\n",
    "# pipeline = pipeline('text-generation', model=model, tokenizer=tokenizer)\n",
    "# local_llm = HuggingFacePipeline(pipeline=pipeline)\n",
    "\n",
    "#llm_hugging=HuggingFaceHub(repo_id=model_id, model_kwargs={'temperature':0.1}, huggingfacehub_api_token=HUGGING_TOKEN)"
   ]
  },
  {
   "cell_type": "code",
   "execution_count": 5,
   "metadata": {},
   "outputs": [],
   "source": [
    "RESPONSE_JSON = {\n",
    "    \"1\": {\n",
    "        \"mcq\": \"multiple choice question\",\n",
    "        \"options\": {\n",
    "            \"a\": \"choice here\",\n",
    "            \"b\": \"choice here\",\n",
    "            \"c\": \"choice here\",\n",
    "            \"d\": \"choice here\",\n",
    "        },\n",
    "        \"correct\": \"correct answer\",\n",
    "    },\n",
    "    \"2\": {\n",
    "        \"mcq\": \"multiple choice question\",\n",
    "        \"options\": {\n",
    "            \"a\": \"choice here\",\n",
    "            \"b\": \"choice here\",\n",
    "            \"c\": \"choice here\",\n",
    "            \"d\": \"choice here\",\n",
    "        },\n",
    "        \"correct\": \"correct answer\",\n",
    "    },\n",
    "    \"3\": {\n",
    "        \"mcq\": \"multiple choice question\",\n",
    "        \"options\": {\n",
    "            \"a\": \"choice here\",\n",
    "            \"b\": \"choice here\",\n",
    "            \"c\": \"choice here\",\n",
    "            \"d\": \"choice here\",\n",
    "        },\n",
    "        \"correct\": \"correct answer\",\n",
    "    },\n",
    "}"
   ]
  },
  {
   "cell_type": "code",
   "execution_count": 6,
   "metadata": {},
   "outputs": [],
   "source": [
    "TEMPLATE=\"\"\"\n",
    "Text:{text}\n",
    "You are an expert MCQ maker. Given the above text, it is your job to \\\n",
    "create a quiz  of {number} multiple choice questions for {subject} students in {tone} tone. \n",
    "Make sure the questions are not repeated and check all the questions to be conforming the text as well.\n",
    "Make sure to format your response like  RESPONSE_JSON below  and use it as a guide. \\\n",
    "Ensure to make {number} MCQs\n",
    "### RESPONSE_JSON\n",
    "{response_json}\n",
    "\"\"\""
   ]
  },
  {
   "cell_type": "code",
   "execution_count": 7,
   "metadata": {},
   "outputs": [],
   "source": [
    "quiz_prompt = PromptTemplate(\n",
    "    input_variables=[\"text\", \"number\", \"subject\", \"tone\", \"response_json\", \"level\"],\n",
    "    template=TEMPLATE,\n",
    ")"
   ]
  },
  {
   "cell_type": "code",
   "execution_count": 40,
   "metadata": {},
   "outputs": [],
   "source": [
    "#llm_hugging=HuggingFaceHub(repo_id=model_id, model_kwargs={'temperature':0.1}, huggingfacehub_api_token=HUGGING_TOKEN)"
   ]
  },
  {
   "cell_type": "code",
   "execution_count": 8,
   "metadata": {},
   "outputs": [
    {
     "name": "stderr",
     "output_type": "stream",
     "text": [
      "/Users/hamdaniilham/Python/AI-MCQGen/venv/lib/python3.11/site-packages/langchain_core/_api/deprecation.py:139: LangChainDeprecationWarning: The class `LLMChain` was deprecated in LangChain 0.1.17 and will be removed in 1.0. Use RunnableSequence, e.g., `prompt | llm` instead.\n",
      "  warn_deprecated(\n"
     ]
    }
   ],
   "source": [
    "quiz_chain=LLMChain(llm=llm_google, prompt=quiz_prompt, output_key=\"quiz\", verbose=True)\n",
    "\n",
    "TEXT = 'A natural product is a natural compound or substance produced by a living organism—that is, found in nature.[2][3] In the broadest sense, natural products include any substance produced by life.[4][5] Natural products can also be prepared by chemical synthesis (both semisynthesis and total synthesis) and have played a central role in the development of the field of organic chemistry by providing challenging synthetic targets. The term natural product has also been extended for commercial purposes to refer to cosmetics, dietary supplements, and foods produced from natural sources without added artificial ingredients.[6] Within the field of organic chemistry, the definition of natural products is usually restricted to organic compounds isolated from natural sources that are produced by the pathways of secondary metabolism.[7] Within the field of medicinal chemistry, the definition is often further restricted to secondary metabolites.[8][9] Secondary metabolites (or specialized metabolites) are not essential for survival, but nevertheless provide organisms that produce them an evolutionary advantage.[10] Many secondary metabolites are cytotoxic and have been selected and optimized through evolution for use as \"chemical warfare\" agents against prey, predators, and competing organisms.[11] Secondary or specialized metabolites are often unique to species, which is contrasted to primary metabolites which have broad use across kingdoms. Secondary metabolites are marked by chemical complexity which is why they are of such interest to chemists. Natural sources may lead to basic research on potential bioactive components for commercial development as lead compounds in drug discovery.[12] Although natural products have inspired numerous drugs, drug development from natural sources has received declining attention in the 21st century by pharmaceutical companies, partly due to unreliable access and supply, intellectual property, cost, and profit concerns, seasonal or environmental variability of composition, and loss of sources due to rising extinction rates.[12]'"
   ]
  },
  {
   "cell_type": "code",
   "execution_count": 9,
   "metadata": {},
   "outputs": [
    {
     "name": "stderr",
     "output_type": "stream",
     "text": [
      "/Users/hamdaniilham/Python/AI-MCQGen/venv/lib/python3.11/site-packages/langchain_core/_api/deprecation.py:139: LangChainDeprecationWarning: The method `Chain.run` was deprecated in langchain 0.1.0 and will be removed in 0.3.0. Use invoke instead.\n",
      "  warn_deprecated(\n"
     ]
    },
    {
     "name": "stdout",
     "output_type": "stream",
     "text": [
      "\n",
      "\n",
      "\u001b[1m> Entering new LLMChain chain...\u001b[0m\n",
      "Prompt after formatting:\n",
      "\u001b[32;1m\u001b[1;3m\n",
      "Text:A natural product is a natural compound or substance produced by a living organism—that is, found in nature.[2][3] In the broadest sense, natural products include any substance produced by life.[4][5] Natural products can also be prepared by chemical synthesis (both semisynthesis and total synthesis) and have played a central role in the development of the field of organic chemistry by providing challenging synthetic targets. The term natural product has also been extended for commercial purposes to refer to cosmetics, dietary supplements, and foods produced from natural sources without added artificial ingredients.[6] Within the field of organic chemistry, the definition of natural products is usually restricted to organic compounds isolated from natural sources that are produced by the pathways of secondary metabolism.[7] Within the field of medicinal chemistry, the definition is often further restricted to secondary metabolites.[8][9] Secondary metabolites (or specialized metabolites) are not essential for survival, but nevertheless provide organisms that produce them an evolutionary advantage.[10] Many secondary metabolites are cytotoxic and have been selected and optimized through evolution for use as \"chemical warfare\" agents against prey, predators, and competing organisms.[11] Secondary or specialized metabolites are often unique to species, which is contrasted to primary metabolites which have broad use across kingdoms. Secondary metabolites are marked by chemical complexity which is why they are of such interest to chemists. Natural sources may lead to basic research on potential bioactive components for commercial development as lead compounds in drug discovery.[12] Although natural products have inspired numerous drugs, drug development from natural sources has received declining attention in the 21st century by pharmaceutical companies, partly due to unreliable access and supply, intellectual property, cost, and profit concerns, seasonal or environmental variability of composition, and loss of sources due to rising extinction rates.[12]\n",
      "You are an expert MCQ maker. Given the above text, it is your job to create a quiz  of 5 multiple choice questions for biology students in simple tone. \n",
      "Make sure the questions are not repeated and check all the questions to be conforming the text as well.\n",
      "Make sure to format your response like  RESPONSE_JSON below  and use it as a guide. Ensure to make 5 MCQs\n",
      "### RESPONSE_JSON\n",
      "{'1': {'mcq': 'multiple choice question', 'options': {'a': 'choice here', 'b': 'choice here', 'c': 'choice here', 'd': 'choice here'}, 'correct': 'correct answer'}, '2': {'mcq': 'multiple choice question', 'options': {'a': 'choice here', 'b': 'choice here', 'c': 'choice here', 'd': 'choice here'}, 'correct': 'correct answer'}, '3': {'mcq': 'multiple choice question', 'options': {'a': 'choice here', 'b': 'choice here', 'c': 'choice here', 'd': 'choice here'}, 'correct': 'correct answer'}}\n",
      "\u001b[0m\n",
      "\n",
      "\u001b[1m> Finished chain.\u001b[0m\n"
     ]
    },
    {
     "data": {
      "text/plain": [
       "\"### RESPONSE_JSON\\n{'1': {'mcq': 'What is the broadest definition of a natural product?', 'options': {'a': 'Any substance produced by life', 'b': 'Any compound found in nature', 'c': 'Any organic compound isolated from natural sources', 'd': 'Any secondary metabolite'}, 'correct': 'a'}, '2': {'mcq': 'Which of the following is NOT a characteristic of secondary metabolites?', 'options': {'a': 'They are essential for survival', 'b': 'They provide an evolutionary advantage', 'c': 'They are often cytotoxic', 'd': 'They are often unique to species'}, 'correct': 'a'}, '3': {'mcq': 'Why have pharmaceutical companies declined in their attention to drug development from natural sources?', 'options': {'a': 'Unreliable access and supply', 'b': 'Intellectual property concerns', 'c': 'Cost and profit concerns', 'd': 'All of the above'}, 'correct': 'd'}, '4': {'mcq': 'What is the difference between primary and secondary metabolites?', 'options': {'a': 'Primary metabolites are essential for survival, while secondary metabolites are not', 'b': 'Primary metabolites are found in all organisms, while secondary metabolites are unique to species', 'c': 'Primary metabolites are simple in structure, while secondary metabolites are complex', 'd': 'All of the above'}, 'correct': 'd'}, '5': {'mcq': 'How can natural products be used in drug discovery?', 'options': {'a': 'As lead compounds', 'b': 'As targets for chemical synthesis', 'c': 'As sources of inspiration', 'd': 'All of the above'}, 'correct': 'd'}}\""
      ]
     },
     "execution_count": 9,
     "metadata": {},
     "output_type": "execute_result"
    }
   ],
   "source": [
    "quiz_chain.run({\n",
    "    \"text\": TEXT,\n",
    "    \"number\": 5,\n",
    "    \"subject\": \"biology\",\n",
    "    \"tone\": \"simple\",\n",
    "    \"response_json\": RESPONSE_JSON,\n",
    "})"
   ]
  },
  {
   "cell_type": "code",
   "execution_count": 10,
   "metadata": {},
   "outputs": [],
   "source": [
    "TEMPLATE2=\"\"\"\n",
    "Kamu adalah seorang ahli tata bahasa indonesia dan penulis bahasa indonesia. Diberikan Kuis Pilihan Ganda untuk siswa {level}.\n",
    "Anda perlu mengevaluasi kompleksitas pertanyaan dan memberikan analisis kuis secara lengkap. Hanya gunakan maksimal 50 kata untuk analisis kompleksitas. \n",
    "jika kuis tidak sesuai dengan kemampuan kognitif dan analitis siswa,\n",
    "perbarui soal kuis yang perlu diubah dan ubah nadanya agar sesuai dengan kemampuan siswa\n",
    "Kuis_MCQ:\n",
    "{quiz}\n",
    "\n",
    "Periksa dari Penulis ahli Bahasa Indoesia dari kuis di atas:\n",
    "\"\"\""
   ]
  },
  {
   "cell_type": "code",
   "execution_count": 11,
   "metadata": {},
   "outputs": [],
   "source": [
    "quiz_eval=PromptTemplate(\n",
    "    input_variables=[\"quiz\",\"level\"],\n",
    "    template=TEMPLATE2\n",
    ")"
   ]
  },
  {
   "cell_type": "code",
   "execution_count": 12,
   "metadata": {},
   "outputs": [],
   "source": [
    "review_chain=LLMChain(llm=llm_google, prompt=quiz_eval, output_key=\"eval\", verbose=True)"
   ]
  },
  {
   "cell_type": "code",
   "execution_count": 13,
   "metadata": {},
   "outputs": [],
   "source": [
    "generate_eval=SequentialChain(\n",
    "    chains=[quiz_chain, review_chain],\n",
    "    input_variables=[\"text\", \"number\", \"subject\", \"tone\", \"response_json\", \"level\"],\n",
    "    output_variables=[\"quiz\", \"eval\"],\n",
    "    verbose=True\n",
    ")"
   ]
  },
  {
   "cell_type": "code",
   "execution_count": 14,
   "metadata": {},
   "outputs": [
    {
     "name": "stderr",
     "output_type": "stream",
     "text": [
      "/Users/hamdaniilham/Python/AI-MCQGen/venv/lib/python3.11/site-packages/langchain_core/_api/deprecation.py:139: LangChainDeprecationWarning: The method `Chain.__call__` was deprecated in langchain 0.1.0 and will be removed in 0.3.0. Use invoke instead.\n",
      "  warn_deprecated(\n"
     ]
    },
    {
     "name": "stdout",
     "output_type": "stream",
     "text": [
      "\n",
      "\n",
      "\u001b[1m> Entering new SequentialChain chain...\u001b[0m\n",
      "\n",
      "\n",
      "\u001b[1m> Entering new LLMChain chain...\u001b[0m\n",
      "Prompt after formatting:\n",
      "\u001b[32;1m\u001b[1;3m\n",
      "Text:Soal Pilihan Ganda\n",
      "You are an expert MCQ maker. Given the above text, it is your job to create a quiz  of 10 multiple choice questions for Generative AI students in Simple tone. \n",
      "Make sure the questions are not repeated and check all the questions to be conforming the text as well.\n",
      "Make sure to format your response like  RESPONSE_JSON below  and use it as a guide. Ensure to make 10 MCQs\n",
      "### RESPONSE_JSON\n",
      "{'1': {'mcq': 'multiple choice question', 'options': {'a': 'choice here', 'b': 'choice here', 'c': 'choice here', 'd': 'choice here'}, 'correct': 'correct answer'}, '2': {'mcq': 'multiple choice question', 'options': {'a': 'choice here', 'b': 'choice here', 'c': 'choice here', 'd': 'choice here'}, 'correct': 'correct answer'}, '3': {'mcq': 'multiple choice question', 'options': {'a': 'choice here', 'b': 'choice here', 'c': 'choice here', 'd': 'choice here'}, 'correct': 'correct answer'}}\n",
      "\u001b[0m\n",
      "\n",
      "\u001b[1m> Finished chain.\u001b[0m\n",
      "\n",
      "\n",
      "\u001b[1m> Entering new LLMChain chain...\u001b[0m\n",
      "Prompt after formatting:\n",
      "\u001b[32;1m\u001b[1;3m\n",
      "Kamu adalah seorang ahli tata bahasa indonesia dan penulis bahasa indonesia. Diberikan Kuis Pilihan Ganda untuk siswa Junior High School.\n",
      "Anda perlu mengevaluasi kompleksitas pertanyaan dan memberikan analisis kuis secara lengkap. Hanya gunakan maksimal 50 kata untuk analisis kompleksitas. \n",
      "jika kuis tidak sesuai dengan kemampuan kognitif dan analitis siswa,\n",
      "perbarui soal kuis yang perlu diubah dan ubah nadanya agar sesuai dengan kemampuan siswa\n",
      "Kuis_MCQ:\n",
      "### RESPONSE_JSON\n",
      "{'1': {'mcq': 'What is the full form of MCQ?', 'options': {'a': 'Multiple Choice Question', 'b': 'Multiple Choice Quiz', 'c': 'Multiple Choice Test', 'd': 'Multiple Choice Exam'}, 'correct': 'a'}, '2': {'mcq': 'Who is considered an expert MCQ maker?', 'options': {'a': 'A teacher', 'b': 'A student', 'c': 'A professional', 'd': 'Anyone'}, 'correct': 'c'}, '3': {'mcq': 'What is the purpose of an MCQ?', 'options': {'a': 'To test knowledge', 'b': 'To practice skills', 'c': 'To evaluate understanding', 'd': 'All of the above'}, 'correct': 'd'}, '4': {'mcq': 'What is the typical format of an MCQ?', 'options': {'a': 'Question and four options', 'b': 'Question and two options', 'c': 'Question and three options', 'd': 'Question and five options'}, 'correct': 'a'}, '5': {'mcq': 'What is the best way to answer an MCQ?', 'options': {'a': 'Guess randomly', 'b': 'Read the question carefully', 'c': 'Eliminate incorrect options', 'd': 'All of the above'}, 'correct': 'd'}, '6': {'mcq': 'What is a common mistake students make when answering MCQs?', 'options': {'a': 'Not reading the question carefully', 'b': 'Choosing the first option', 'c': 'Overthinking the question', 'd': 'All of the above'}, 'correct': 'd'}, '7': {'mcq': 'What is a good strategy for answering MCQs under time pressure?', 'options': {'a': 'Answer the easiest questions first', 'b': 'Skip difficult questions', 'c': 'Guess on the remaining questions', 'd': 'All of the above'}, 'correct': 'a'}, '8': {'mcq': 'What is the benefit of using MCQs in teaching?', 'options': {'a': 'They are objective', 'b': 'They are efficient', 'c': 'They are engaging', 'd': 'All of the above'}, 'correct': 'd'}, '9': {'mcq': 'What is a limitation of using MCQs in teaching?', 'options': {'a': 'They can be biased', 'b': 'They can be difficult to write', 'c': 'They can encourage guessing', 'd': 'All of the above'}, 'correct': 'd'}, '10': {'mcq': 'What is the future of MCQs in education?', 'options': {'a': 'They will become more popular', 'b': 'They will become less popular', 'c': 'They will remain the same', 'd': 'It is uncertain'}, 'correct': 'a'}}\n",
      "\n",
      "Periksa dari Penulis ahli Bahasa Indoesia dari kuis di atas:\n",
      "\u001b[0m\n",
      "\n",
      "\u001b[1m> Finished chain.\u001b[0m\n",
      "\n",
      "\u001b[1m> Finished chain.\u001b[0m\n"
     ]
    }
   ],
   "source": [
    "response = generate_eval({\n",
    "    \"text\": \"Soal Pilihan Ganda\",\n",
    "    \"number\": 10,\n",
    "    \"subject\": \"Generative AI\",\n",
    "    \"tone\": \"Simple\",\n",
    "    \"response_json\": RESPONSE_JSON,\n",
    "    \"level\": \"Junior High School\"\n",
    "})"
   ]
  },
  {
   "cell_type": "code",
   "execution_count": 15,
   "metadata": {},
   "outputs": [
    {
     "name": "stdout",
     "output_type": "stream",
     "text": [
      "### RESPONSE_JSON\n",
      "{'1': {'mcq': 'What is the full form of MCQ?', 'options': {'a': 'Multiple Choice Question', 'b': 'Multiple Choice Quiz', 'c': 'Multiple Choice Test', 'd': 'Multiple Choice Exam'}, 'correct': 'a'}, '2': {'mcq': 'Who is considered an expert MCQ maker?', 'options': {'a': 'A teacher', 'b': 'A student', 'c': 'A professional', 'd': 'Anyone'}, 'correct': 'c'}, '3': {'mcq': 'What is the purpose of an MCQ?', 'options': {'a': 'To test knowledge', 'b': 'To practice skills', 'c': 'To evaluate understanding', 'd': 'All of the above'}, 'correct': 'd'}, '4': {'mcq': 'What is the typical format of an MCQ?', 'options': {'a': 'Question and four options', 'b': 'Question and two options', 'c': 'Question and three options', 'd': 'Question and five options'}, 'correct': 'a'}, '5': {'mcq': 'What is the best way to answer an MCQ?', 'options': {'a': 'Guess randomly', 'b': 'Read the question carefully', 'c': 'Eliminate incorrect options', 'd': 'All of the above'}, 'correct': 'd'}, '6': {'mcq': 'What is a common mistake students make when answering MCQs?', 'options': {'a': 'Not reading the question carefully', 'b': 'Choosing the first option', 'c': 'Overthinking the question', 'd': 'All of the above'}, 'correct': 'd'}, '7': {'mcq': 'What is a good strategy for answering MCQs under time pressure?', 'options': {'a': 'Answer the easiest questions first', 'b': 'Skip difficult questions', 'c': 'Guess on the remaining questions', 'd': 'All of the above'}, 'correct': 'a'}, '8': {'mcq': 'What is the benefit of using MCQs in teaching?', 'options': {'a': 'They are objective', 'b': 'They are efficient', 'c': 'They are engaging', 'd': 'All of the above'}, 'correct': 'd'}, '9': {'mcq': 'What is a limitation of using MCQs in teaching?', 'options': {'a': 'They can be biased', 'b': 'They can be difficult to write', 'c': 'They can encourage guessing', 'd': 'All of the above'}, 'correct': 'd'}, '10': {'mcq': 'What is the future of MCQs in education?', 'options': {'a': 'They will become more popular', 'b': 'They will become less popular', 'c': 'They will remain the same', 'd': 'It is uncertain'}, 'correct': 'a'}}\n"
     ]
    }
   ],
   "source": [
    "print(response['quiz'])"
   ]
  }
 ],
 "metadata": {
  "kernelspec": {
   "display_name": "venv",
   "language": "python",
   "name": "python3"
  },
  "language_info": {
   "codemirror_mode": {
    "name": "ipython",
    "version": 3
   },
   "file_extension": ".py",
   "mimetype": "text/x-python",
   "name": "python",
   "nbconvert_exporter": "python",
   "pygments_lexer": "ipython3",
   "version": "3.11.9"
  }
 },
 "nbformat": 4,
 "nbformat_minor": 2
}
